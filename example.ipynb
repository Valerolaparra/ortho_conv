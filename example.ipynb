{
 "cells": [
  {
   "cell_type": "code",
   "execution_count": 1,
   "id": "178fafae",
   "metadata": {},
   "outputs": [],
   "source": [
    "import tensorflow as tf\n",
    "import numpy as np\n",
    "import matplotlib.pyplot as plt\n",
    "\n",
    "%load_ext autoreload\n",
    "%autoreload 2"
   ]
  },
  {
   "cell_type": "markdown",
   "id": "63727c7e-f9c8-46aa-ba39-c2a7ade460db",
   "metadata": {},
   "source": [
    "# How to use OrthoConv class"
   ]
  },
  {
   "cell_type": "code",
   "execution_count": 2,
   "id": "27719fa9-e7d5-4d7a-9a52-51794cccbc25",
   "metadata": {},
   "outputs": [],
   "source": [
    "from ortho_conv import OrthoConv"
   ]
  },
  {
   "cell_type": "code",
   "execution_count": 3,
   "id": "d6a624d1",
   "metadata": {},
   "outputs": [],
   "source": [
    "(train_images, train_labels), (_, _) = tf.keras.datasets.cifar10.load_data()\n",
    "train_images = train_images.astype('float32')\n",
    "\n",
    "# Normalization\n",
    "train_images = (train_images - 127.5) / 127.5 # Normalize the images to [-1, 1]"
   ]
  },
  {
   "cell_type": "code",
   "execution_count": 4,
   "id": "8d384568-b1f0-45a8-a0df-5d36057ea691",
   "metadata": {},
   "outputs": [],
   "source": [
    "# Define instance\n",
    "Conv_L1 = OrthoConv(\n",
    "    filter_width=12,\n",
    "    stride=4,\n",
    "    input_channels=train_images.shape[3])"
   ]
  },
  {
   "cell_type": "code",
   "execution_count": 5,
   "id": "dccc7d08-e622-4003-a0cb-a1c3750aa118",
   "metadata": {},
   "outputs": [
    {
     "name": "stderr",
     "output_type": "stream",
     "text": [
      "2022-02-07 17:17:33.901564: W tensorflow/core/platform/profile_utils/cpu_utils.cc:128] Failed to get CPU frequency: 0 Hz\n"
     ]
    },
    {
     "name": "stdout",
     "output_type": "stream",
     "text": [
      "Total loss 0.007708699442446232, L2 loss 0.00043169764103367925\n"
     ]
    }
   ],
   "source": [
    "# Train\n",
    "Conv_L1.fit(np.random.permutation(train_images)[0:30000,:,:,:], epochs=1)"
   ]
  },
  {
   "cell_type": "code",
   "execution_count": 7,
   "id": "2e2e3987-ae3a-4102-973e-dab5f66ceb38",
   "metadata": {},
   "outputs": [
    {
     "name": "stdout",
     "output_type": "stream",
     "text": [
      "1.5160616e-07\n"
     ]
    }
   ],
   "source": [
    "embed = Conv_L1.predict(train_images[0:2, :, :, :])\n",
    "exact_inv = Conv_L1.exact_inverse(train_images[0:2, :, :, :].shape, embed)\n",
    "\n",
    "print(np.mean((train_images[0:2, :, :, :]-exact_inv)**2))\n",
    "# just to show we can recover the original images with the exact inverse function"
   ]
  },
  {
   "cell_type": "code",
   "execution_count": null,
   "id": "63eacc50-3f5f-4189-a880-333671c6bda9",
   "metadata": {},
   "outputs": [],
   "source": []
  }
 ],
 "metadata": {
  "kernelspec": {
   "display_name": "Python 3 (ipykernel)",
   "language": "python",
   "name": "python3"
  },
  "language_info": {
   "codemirror_mode": {
    "name": "ipython",
    "version": 3
   },
   "file_extension": ".py",
   "mimetype": "text/x-python",
   "name": "python",
   "nbconvert_exporter": "python",
   "pygments_lexer": "ipython3",
   "version": "3.8.12"
  }
 },
 "nbformat": 4,
 "nbformat_minor": 5
}
